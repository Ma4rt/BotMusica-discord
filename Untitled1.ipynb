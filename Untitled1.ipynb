{
  "nbformat": 4,
  "nbformat_minor": 0,
  "metadata": {
    "colab": {
      "provenance": [],
      "authorship_tag": "ABX9TyPZytpyX5j4pznLqP6Ikb2A",
      "include_colab_link": true
    },
    "kernelspec": {
      "name": "python3",
      "display_name": "Python 3"
    },
    "language_info": {
      "name": "python"
    }
  },
  "cells": [
    {
      "cell_type": "markdown",
      "metadata": {
        "id": "view-in-github",
        "colab_type": "text"
      },
      "source": [
        "<a href=\"https://colab.research.google.com/github/Ma4rt/BotMusica-discord/blob/main/Untitled1.ipynb\" target=\"_parent\"><img src=\"https://colab.research.google.com/assets/colab-badge.svg\" alt=\"Open In Colab\"/></a>"
      ]
    },
    {
      "cell_type": "code",
      "execution_count": null,
      "metadata": {
        "colab": {
          "base_uri": "https://localhost:8080/",
          "height": 245
        },
        "id": "wugrqCGJHvQK",
        "outputId": "893bcd0f-6108-4efe-ca7c-5dd2e3ae904d"
      },
      "outputs": [
        {
          "output_type": "error",
          "ename": "TypeError",
          "evalue": "ignored",
          "traceback": [
            "\u001b[0;31m---------------------------------------------------------------------------\u001b[0m",
            "\u001b[0;31mTypeError\u001b[0m                                 Traceback (most recent call last)",
            "\u001b[0;32m<ipython-input-2-079dda03f6c1>\u001b[0m in \u001b[0;36m<cell line: 8>\u001b[0;34m()\u001b[0m\n\u001b[1;32m      6\u001b[0m \u001b[0mTOKEN\u001b[0m \u001b[0;34m=\u001b[0m \u001b[0;34m\"YOUR_BOT_TOKEN_HERE\"\u001b[0m\u001b[0;34m\u001b[0m\u001b[0;34m\u001b[0m\u001b[0m\n\u001b[1;32m      7\u001b[0m \u001b[0;34m\u001b[0m\u001b[0m\n\u001b[0;32m----> 8\u001b[0;31m \u001b[0mbot\u001b[0m \u001b[0;34m=\u001b[0m \u001b[0mcommands\u001b[0m\u001b[0;34m.\u001b[0m\u001b[0mBot\u001b[0m\u001b[0;34m(\u001b[0m\u001b[0mcommand_prefix\u001b[0m\u001b[0;34m=\u001b[0m\u001b[0;34m'!'\u001b[0m\u001b[0;34m)\u001b[0m\u001b[0;34m\u001b[0m\u001b[0;34m\u001b[0m\u001b[0m\n\u001b[0m\u001b[1;32m      9\u001b[0m \u001b[0;34m\u001b[0m\u001b[0m\n\u001b[1;32m     10\u001b[0m \u001b[0;34m@\u001b[0m\u001b[0mbot\u001b[0m\u001b[0;34m.\u001b[0m\u001b[0mcommand\u001b[0m\u001b[0;34m(\u001b[0m\u001b[0;34m)\u001b[0m\u001b[0;34m\u001b[0m\u001b[0;34m\u001b[0m\u001b[0m\n",
            "\u001b[0;31mTypeError\u001b[0m: BotBase.__init__() missing 1 required keyword-only argument: 'intents'"
          ]
        }
      ],
      "source": [
        "import discord\n",
        "from discord.ext import commands\n",
        "import youtube_dl\n",
        "import asyncio\n",
        "\n",
        "TOKEN = \"YOUR_BOT_TOKEN_HERE\"\n",
        "\n",
        "bot = commands.Bot(command_prefix='!')\n",
        "\n",
        "@bot.command()\n",
        "async def play(ctx, url):\n",
        "    if not ctx.author.voice:\n",
        "        await ctx.send(\"Você precisa estar em um canal de voz para usar este comando\")\n",
        "        return\n",
        "\n",
        "    channel = ctx.author.voice.channel\n",
        "\n",
        "    if not bot.voice_clients:\n",
        "        await channel.connect()\n",
        "\n",
        "    guild = ctx.guild\n",
        "    voice_client = guild.voice_client\n",
        "\n",
        "    player = await YTDLSource.from_url(url, loop=bot.loop)\n",
        "    voice_client.play(player, after=lambda e: print('Erro: %s' % e) if e else None)\n",
        "\n",
        "class YTDLSource(discord.PCMVolumeTransformer):\n",
        "\n",
        "    def __init__(self, source, *, data, volume=0.5):\n",
        "        super().__init__(source, volume)\n",
        "        self.data = data\n",
        "\n",
        "    @classmethod\n",
        "    async def from_url(cls, url, *, loop=None, stream=False):\n",
        "        loop = loop or asyncio.get_event_loop()\n",
        "        ydl_opts = {\n",
        "            'format': 'bestaudio/best',\n",
        "            'postprocessors': [{\n",
        "                'key': 'FFmpegExtractAudio',\n",
        "                'preferredcodec': 'mp3',\n",
        "                'preferredquality': '192',\n",
        "            }],\n",
        "        }\n",
        "        data = await loop.run_in_executor(None, lambda: youtube_dl.YoutubeDL(ydl_opts).extract_info(url, download=not stream))\n",
        "\n",
        "        if 'entries' in data:\n",
        "            data = data['entries'][0]\n",
        "\n",
        "        filename = data['url'] if stream else youtube_dl.YoutubeDL(ydl_opts).prepare_filename(data)\n",
        "        return cls(discord.FFmpegPCMAudio(filename), data=data)\n",
        "\n",
        "bot.run(TOKEN)"
      ]
    },
    {
      "cell_type": "code",
      "source": [],
      "metadata": {
        "id": "l6wzKPRJJvta"
      },
      "execution_count": null,
      "outputs": []
    }
  ]
}